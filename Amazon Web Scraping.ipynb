{
 "cells": [
  {
   "cell_type": "code",
   "execution_count": 1,
   "metadata": {},
   "outputs": [],
   "source": [
    "# Import Libraries\n",
    "from bs4 import BeautifulSoup\n",
    "import requests\n",
    "import smtplib\n",
    "import time\n",
    "import datetime\n",
    "\n",
    "import csv\n",
    "import pandas as pd\n"
   ]
  },
  {
   "cell_type": "code",
   "execution_count": 2,
   "metadata": {},
   "outputs": [],
   "source": [
    " # Now we need to connect with the target website\n",
    "\n",
    "URL = 'https://www.amazon.es/Airbus-Gorra-Newsie-Unisex-A1TD004/dp/B07R3WXLNK/ref=sr_1_11?__mk_es_ES=%C3%85M%C3%85%C5%BD%C3%95%C3%91&dchild=1&keywords=airbus&qid=1629820230&sr=8-11'\n",
    "\n",
    "# If you reuse this code, you need to change the \"User-Agent\" header to your browser's header, you can find those on this link: https://httpbin.org/get\n",
    "headers = {\"User-Agent\": \"Mozilla/5.0 (Windows NT 10.0; Win64; x64) AppleWebKit/537.36 (KHTML, like Gecko) Chrome/92.0.4515.159 Safari/537.36\", \"Accept-Encoding\":\"gzip, deflate\", \"Accept\":\"text/html,application/xhtml+xml,application/xml;q=0.9,*/*;q=0.8\", \"DNT\":\"1\",\"Connection\":\"close\", \"Upgrade-Insecure-Requests\":\"1\" }\n",
    "\n",
    "page = requests.get(URL, headers = headers)\n",
    "\n",
    "soup1 = BeautifulSoup(page.content, \"html.parser\")\n",
    "\n",
    "soup2 = BeautifulSoup(soup1.prettify(), \"html.parser\")\n",
    "\n",
    "title = soup2.find(id = 'productTitle').get_text()\n",
    "\n",
    "price = soup2.find(id = 'priceblock_ourprice').get_text()\n",
    "\n"
   ]
  },
  {
   "cell_type": "code",
   "execution_count": 4,
   "metadata": {},
   "outputs": [],
   "source": [
    "price = price.strip().split('\\xa0')[0].replace(u',',u'.')\n",
    "title = title.strip()"
   ]
  },
  {
   "cell_type": "code",
   "execution_count": 6,
   "metadata": {},
   "outputs": [
    {
     "name": "stdout",
     "output_type": "stream",
     "text": [
      "2021-08-24\n"
     ]
    }
   ],
   "source": [
    "today = datetime.date.today()\n",
    "print(today)"
   ]
  },
  {
   "cell_type": "code",
   "execution_count": 7,
   "metadata": {},
   "outputs": [],
   "source": [
    "# CSV automation\n",
    "\n",
    "header = ['Product', 'Price', 'Date']\n",
    "data = [title, price, today]\n",
    "\n",
    "with open('Amazon_Airbus_Web_Scrapper.csv', 'w', newline = '', encoding = 'UTF8') as f: \n",
    "    writer = csv.writer(f)\n",
    "    writer.writerow(header)\n",
    "    writer.writerow(data)"
   ]
  },
  {
   "cell_type": "code",
   "execution_count": 9,
   "metadata": {},
   "outputs": [],
   "source": [
    "#Function to Automate the price checking for this article\n",
    "def price_checker():\n",
    "    URL = 'https://www.amazon.es/Airbus-Gorra-Newsie-Unisex-A1TD004/dp/B07R3WXLNK/ref=sr_1_11?__mk_es_ES=%C3%85M%C3%85%C5%BD%C3%95%C3%91&dchild=1&keywords=airbus&qid=1629820230&sr=8-11'\n",
    "    # If you reuse this code, you need to change the \"User-Agent\" header to your browser's header, you can find those on this link: https://httpbin.org/get\n",
    "    headers = {\"User-Agent\": \"Mozilla/5.0 (Windows NT 10.0; Win64; x64) AppleWebKit/537.36 (KHTML, like Gecko) Chrome/92.0.4515.159 Safari/537.36\", \"Accept-Encoding\":\"gzip, deflate\", \"Accept\":\"text/html,application/xhtml+xml,application/xml;q=0.9,*/*;q=0.8\", \"DNT\":\"1\",\"Connection\":\"close\", \"Upgrade-Insecure-Requests\":\"1\" }\n",
    "    page = requests.get(URL, headers = headers)\n",
    "    \n",
    "    soup1 = BeautifulSoup(page.content, \"html.parser\")\n",
    "    soup2 = BeautifulSoup(soup1.prettify(), \"html.parser\")\n",
    "    \n",
    "    title = soup2.find(id = 'productTitle').get_text()\n",
    "    price = soup2.find(id = 'priceblock_ourprice').get_text()\n",
    "    \n",
    "    today = datetime.date.today()\n",
    "    \n",
    "    header = ['Product', 'Price', 'Date']\n",
    "    data = [title, price, today]\n",
    "    \n",
    "    with open('Amazon_Airbus_Web_Scrapper.csv', 'a+', newline = '', encoding = 'UTF8') as f: \n",
    "        writer = csv.writer(f)\n",
    "        writer.writerow(data)"
   ]
  },
  {
   "cell_type": "code",
   "execution_count": null,
   "metadata": {},
   "outputs": [],
   "source": [
    "# Timer Automation\n",
    "while(True):\n",
    "    price_checker()\n",
    "    time.sleep(86400)"
   ]
  },
  {
   "cell_type": "code",
   "execution_count": 10,
   "metadata": {},
   "outputs": [],
   "source": [
    "# Send a Mail when the price drops \n",
    "def email_alert():\n",
    "    server = smtplib.SMTP_SSL('smtp.gmail.com', 465)\n",
    "    server.ehlo()\n",
    "    #server.starttls()\n",
    "    server.ehlo()\n",
    "    server.login('xxxx@starwars.com', 'xxxxxxxxxxxxxx')\n",
    "    \n",
    "    subject = \"Price drop! Time to Buy!\"\n",
    "    body = \"Hi! I'm your algorithm and I come from the future. I'm here to tell you that the item you are watching is now below the price you marked. Go ahead and buy something nice for yourself.\"\n",
    "    \n",
    "    msg = f\"Subject :{subject}\\n\\n{body}\"\n",
    "    \n",
    "    server.sendemail(\n",
    "        'xxxxx@starwars.com', \n",
    "        msg\n",
    "    )\n",
    "    \n",
    "# If you want to use this, you need to add an if statement like the following, inside the function that checks the prices\n",
    "\n",
    "if (price < 15):\n",
    "    email_alert()"
   ]
  },
  {
   "cell_type": "code",
   "execution_count": null,
   "metadata": {},
   "outputs": [],
   "source": []
  }
 ],
 "metadata": {
  "kernelspec": {
   "display_name": "Python 3",
   "language": "python",
   "name": "python3"
  },
  "language_info": {
   "codemirror_mode": {
    "name": "ipython",
    "version": 3
   },
   "file_extension": ".py",
   "mimetype": "text/x-python",
   "name": "python",
   "nbconvert_exporter": "python",
   "pygments_lexer": "ipython3",
   "version": "3.8.5"
  }
 },
 "nbformat": 4,
 "nbformat_minor": 4
}
